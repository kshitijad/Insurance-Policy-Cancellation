{
  "nbformat": 4,
  "nbformat_minor": 0,
  "metadata": {
    "colab": {
      "provenance": []
    },
    "kernelspec": {
      "name": "python3",
      "display_name": "Python 3"
    },
    "language_info": {
      "name": "python"
    }
  },
  "cells": [
    {
      "cell_type": "markdown",
      "metadata": {
        "id": "0_lEuDL4JSNB"
      },
      "source": [
        "# Project: Insurance Policy Cancellation (CC)\n",
        "---------------------------------------------"
      ]
    },
    {
      "cell_type": "markdown",
      "metadata": {
        "id": "NSQWgmi5P5ad"
      },
      "source": [
        "**Dr. Dave Wanik - OPIM 5502: Big Data Analytics using Cloud Computing - University of Connecticut**\n",
        "\n",
        "*This dataset comes from the 2022 NESS Statathon (Theme 1) from 2022. An archived version of the website and related data has been posted on HuskyCT.*"
      ]
    },
    {
      "cell_type": "markdown",
      "metadata": {
        "id": "gwjL6cYoI4Va"
      },
      "source": [
        "**Challenge:** Using historical policy data, create a multiclass predictive model to predict the policies that are most likely to be canceled and those most likely to be renewed, as well as understand what variables are most influential in causing a policy cancellation.\n",
        "\n",
        "For this theme, there are true answers, and a team should focus on proposing the best predictive model. The performance of a team will be mainly based on the predictive performance of the propose method measured by accuracy and the quality of the code. You can use Python's weighted F1 score to calculate the performance of for your model on the test partition.\n",
        "  * Make sure you use the 'weighted' F1 score\n",
        "    * https://scikit-learn.org/stable/modules/generated/sklearn.metrics.f1_score.html"
      ]
    },
    {
      "cell_type": "markdown",
      "metadata": {
        "id": "ACRLrWJPPhDD"
      },
      "source": [
        "# Dataset Description\n",
        "The Kangaroo data set is based on 4 years of property insurance policies from 2013 to 2017. There are roughly 1 million policies in the training data and each policy only has one observation. There were almost 230,000 policies canceled during the effective term. Your work is to build a model on the training data and use your best model to predict the cancelation indicator for each policy in test data.\n",
        "\n",
        "Variable descriptions\n",
        "* id - Policy id (cannot be used in model)\n",
        "* tenure - Number of years with Kangaroo\n",
        "* claim.ind - Occurrence of claim (0=no, 1=yes)\n",
        "* n.adults - Number of adults in the property\n",
        "* n.children - Number of children in the property\n",
        "* ni.gender - Gender of policyholder\n",
        "* ni.marital.status - Marital status of policyholder (0=no, 1=yes)\n",
        "* premium - Price of the policy\n",
        "* sales.channel - Medium through which policy was purchased\n",
        "* coverage.type - Type of coverage\n",
        "* dwelling.type - Type of dwelling\n",
        "* len.at.res - Length at residence (how long policyholder lived at property)\n",
        "* credit - Financial credit level of policyholder\n",
        "* house.color - Color of house\n",
        "* ni.age - Age of policholder\n",
        "* year - Year of the policy\n",
        "* zip.code - Zip code of the property\n",
        "* cancel - cancelation indicator (0=not cancel, 1=may cancel but can be convinced, 2=cancel). **This is the response variable.** Dave is deleting the rows where `cancel==-1`!"
      ]
    },
    {
      "cell_type": "markdown",
      "source": [
        "The train and test files have also been made available to students for modeling on HuskyCT."
      ],
      "metadata": {
        "id": "Ka8lEsJMKh_5"
      }
    },
    {
      "cell_type": "code",
      "source": [
        "# train\n",
        "!gdown 1OwtVLopkeGxWMEYkzhFM1-C5hyNnnY39"
      ],
      "metadata": {
        "colab": {
          "base_uri": "https://localhost:8080/"
        },
        "id": "EANyiNl8RpFe",
        "outputId": "6b1d0a52-ddcc-4f5c-e84a-03c891e1eaa7"
      },
      "execution_count": null,
      "outputs": [
        {
          "output_type": "stream",
          "name": "stdout",
          "text": [
            "Downloading...\n",
            "From: https://drive.google.com/uc?id=1OwtVLopkeGxWMEYkzhFM1-C5hyNnnY39\n",
            "To: /content/train_df_simple.csv\n",
            "\r  0% 0.00/11.2M [00:00<?, ?B/s]\r100% 11.2M/11.2M [00:00<00:00, 141MB/s]\n"
          ]
        }
      ]
    },
    {
      "cell_type": "code",
      "source": [
        "# test\n",
        "!gdown 1DE_CgigN94XO7ESp1ip0t4Mc2on0r_Rj"
      ],
      "metadata": {
        "colab": {
          "base_uri": "https://localhost:8080/"
        },
        "id": "NCjawTkYMFlA",
        "outputId": "32f1a419-0b2f-431a-e632-5f824fefd9d9"
      },
      "execution_count": null,
      "outputs": [
        {
          "output_type": "stream",
          "name": "stdout",
          "text": [
            "Downloading...\n",
            "From: https://drive.google.com/uc?id=1DE_CgigN94XO7ESp1ip0t4Mc2on0r_Rj\n",
            "To: /content/test_df.csv\n",
            "100% 32.2M/32.2M [00:00<00:00, 173MB/s]\n"
          ]
        }
      ]
    },
    {
      "cell_type": "markdown",
      "metadata": {
        "id": "cILTYnnPIZsk"
      },
      "source": [
        "# Rubric\n",
        "The submitted notebook will serve as both a form of model documentation and business communication - there should be lots of text cells and comments and a nice presentation of your work!\n",
        "\n",
        "🟥 You may use your own local environment, Colab or Databricks to do your modeling, but you must submit your final .ipynb file for grading!\n",
        "\n",
        "🟥 I expect most of this notebook to be completed with PySpark code with limited `toPandas()` statements - the one exception to this is your model evaluation section where you can convert to pandas so that you can use `sklearn` classification report and confusion matrix if you would like to.\n",
        "\n",
        "## EDA, data cleaning and feature engineering (20 points)\n",
        "* `X_train`, `X_test`, `y_train`, and `y_test` has been provided to all students.\n",
        "  * Any team who does not do this automatically goes into last place - more below!\n",
        "* Explore the data and clean it up as you see fit - make sure you `fit_transform()` on the training data and `transform()` on the test data.\n",
        "  * Any team that has data leakage automatically goes into last place!\n",
        "* Make five meaningful plots and five meaningful tables (most be deeper than simpler univariate plots - we want you to really explore the problem at hand and use this information to make a better model!)\n",
        "* It is up to you whether or not you want to curate the training dataset to get a better fit on the test dataset (for example, if you would like to use some sampling strategy like oversampling, that's great - just remember that you DON'T change the distribution of the target variable in the test partition.)\n",
        "\n",
        "## Modeling (20 points)\n",
        "* You may perform your modeling in a different notebook (to be submitted as an appendix), but you must run your final and BEST model here and all output must be displayed.\n",
        "  * It's up to you to decide what the best pre-processing steps should be!\n",
        "\n",
        "## Model Results (20 points)\n",
        "* Classification report and confusion report for train and test partition.\n",
        "  * You may use cross-validation to help pick the optimal hyperparameters for your model.\n",
        "* Even though this was for text analytics, I thought it was still very well-done, it could be a good resource for you:\n",
        "  * https://ashokpalivela.medium.com/multi-class-text-classification-using-spark-ml-in-python-b8d2a6545cb\n",
        "\n",
        "## Interpretability and Discussion (30 points)\n",
        "Remember - we want to know what is driving cancellations! It's not enough to build an amazing model, you have to inspect it and explain how it made its decision.\n",
        "\n",
        "* If your best model is a logistic regression, print the coefficients and interpret them!\n",
        "  * Check the textbook and class materials for a nice example.\n",
        "* If your best model is a tree-based model, you can get the importances from the PySpark models!\n",
        "  * https://spark.apache.org/docs/latest/api/python/reference/api/pyspark.ml.classification.DecisionTreeClassifier.html\n",
        "  * https://spark.apache.org/docs/latest/api/python/reference/api/pyspark.ml.classification.RandomForestClassificationModel.html#pyspark.ml.classification.RandomForestClassificationModel.featureImportances\n",
        "* If you used a different model than a logistic regression or tree-based model, it's up to you to determine to best show how your model made its decision. On your own, you may want to consider partial dependence (ask Dave for help early if you want to do this):\n",
        "  * https://gist.github.com/eddjberry/43ceca3d29905781ab6c8dab07e8e1da\n",
        "*  Use your model results and interpretability items to present what variables are most influential in causing a policy cancellation.\n",
        "  * We are looking for each team to provide a business recommendation based on the results of your model! We will take off substantial points if there is not a well-written and cohesive presentation of results.\n",
        "\n",
        "## Conclusions (10 points)\n",
        "* Write five meaningful bullets (each bullet should be at least two sentences long) describing what you learned.\n",
        "\n",
        "## 🛷 Sliding grading scale\n",
        "* You are in direct competition with every other group in the class!\n",
        "* I expect everything in this notebook to be of sufficient quality - well-organized with lots of comments and cleaned up nice for presentation to management. I will deduct substantial points if this is just my code copy/pasted without any deep analysis.\n",
        "* Your 'starting grades' will range from an 80 to a 100 based on model F1 score for the TEST PARTITION (you can use the `F1 score` function from sci-kit learn to evaluate the final model.)\n",
        "* Of course, if something is missing from the above rubric, we will deduct points from your starting grade.\n",
        "  * If you came in first place and lost 10 points somewhere, your final grade is 100 - 10 = 90\n",
        "  * If you came in last place (for accuracy) and lost 10 points somewhere, your final grade is 80 - 10 = 70.\n"
      ]
    },
    {
      "cell_type": "code",
      "source": [
        "!pip install pyspark\n",
        "from pyspark.sql import SparkSession\n",
        "import pyspark.sql.functions as F\n",
        "\n",
        "spark = SparkSession.builder\\\n",
        "        .appName(\"Project\")\\\n",
        "        .getOrCreate()\n",
        "\n",
        "# specify the directory\n",
        "DIRECTORY = '/content/sample_data'"
      ],
      "metadata": {
        "colab": {
          "base_uri": "https://localhost:8080/"
        },
        "id": "4dNDRLg4gIwQ",
        "outputId": "6741d26e-e564-4ef1-9278-9574a79a0916"
      },
      "execution_count": null,
      "outputs": [
        {
          "output_type": "stream",
          "name": "stdout",
          "text": [
            "Looking in indexes: https://pypi.org/simple, https://us-python.pkg.dev/colab-wheels/public/simple/\n",
            "Collecting pyspark\n",
            "  Downloading pyspark-3.4.0.tar.gz (310.8 MB)\n",
            "\u001b[2K     \u001b[90m━━━━━━━━━━━━━━━━━━━━━━━━━━━━━━━━━━━━━━━\u001b[0m \u001b[32m310.8/310.8 MB\u001b[0m \u001b[31m3.7 MB/s\u001b[0m eta \u001b[36m0:00:00\u001b[0m\n",
            "\u001b[?25h  Preparing metadata (setup.py) ... \u001b[?25l\u001b[?25hdone\n",
            "Requirement already satisfied: py4j==0.10.9.7 in /usr/local/lib/python3.10/dist-packages (from pyspark) (0.10.9.7)\n",
            "Building wheels for collected packages: pyspark\n",
            "  Building wheel for pyspark (setup.py) ... \u001b[?25l\u001b[?25hdone\n",
            "  Created wheel for pyspark: filename=pyspark-3.4.0-py2.py3-none-any.whl size=311317145 sha256=6a2c2021d0eca75f825f83cf043a9171945211dea97089ac4505ccedc7b5ecc6\n",
            "  Stored in directory: /root/.cache/pip/wheels/7b/1b/4b/3363a1d04368e7ff0d408e57ff57966fcdf00583774e761327\n",
            "Successfully built pyspark\n",
            "Installing collected packages: pyspark\n",
            "Successfully installed pyspark-3.4.0\n"
          ]
        }
      ]
    },
    {
      "cell_type": "code",
      "source": [
        "#importing necessay libraries\n",
        "from pyspark.ml.feature import StringIndexer, OneHotEncoder\n",
        "from pyspark.ml.feature import VectorAssembler\n",
        "from pyspark.ml import Pipeline\n",
        "from pyspark.ml.classification import LogisticRegression"
      ],
      "metadata": {
        "id": "YEuBAVAiUSkP"
      },
      "execution_count": null,
      "outputs": []
    },
    {
      "cell_type": "code",
      "source": [
        "#reading files\n",
        "import os\n",
        "\n",
        "# read the train data\n",
        "train = spark.read.csv(\n",
        " path=os.path.join(DIRECTORY, \"/content/train_df_simple.csv\"),\n",
        " sep=\",\",\n",
        " header=True,\n",
        " inferSchema=True,\n",
        " timestampFormat=\"yyyy-MM-dd\", # used to tell spark the format of dateTime columns\n",
        ")\n",
        "\n",
        "# read the test data\n",
        "test = spark.read.csv(\n",
        " path=os.path.join(DIRECTORY, \"/content/test_df.csv\"),\n",
        " sep=\",\",\n",
        " header=True,\n",
        " inferSchema=True,\n",
        " timestampFormat=\"yyyy-MM-dd\", # used to tell spark the format of dateTime columns\n",
        ")"
      ],
      "metadata": {
        "id": "XK9mXdbYgERe"
      },
      "execution_count": null,
      "outputs": []
    },
    {
      "cell_type": "code",
      "source": [
        "#checking the schema of test file\n",
        "test.printSchema()"
      ],
      "metadata": {
        "colab": {
          "base_uri": "https://localhost:8080/"
        },
        "id": "refsJmlzgEN-",
        "outputId": "5afd89be-3e22-407c-b679-71b6366b589c"
      },
      "execution_count": null,
      "outputs": [
        {
          "output_type": "stream",
          "name": "stdout",
          "text": [
            "root\n",
            " |-- id: integer (nullable = true)\n",
            " |-- year: integer (nullable = true)\n",
            " |-- zip.code: double (nullable = true)\n",
            " |-- house.color: string (nullable = true)\n",
            " |-- ni.age: double (nullable = true)\n",
            " |-- len.at.res: double (nullable = true)\n",
            " |-- credit: string (nullable = true)\n",
            " |-- coverage.type: string (nullable = true)\n",
            " |-- dwelling.type: string (nullable = true)\n",
            " |-- premium: double (nullable = true)\n",
            " |-- sales.channel: string (nullable = true)\n",
            " |-- ni.gender: string (nullable = true)\n",
            " |-- ni.marital.status: double (nullable = true)\n",
            " |-- n.adults: double (nullable = true)\n",
            " |-- n.children: double (nullable = true)\n",
            " |-- tenure: double (nullable = true)\n",
            " |-- claim.ind: double (nullable = true)\n",
            " |-- cancel: integer (nullable = true)\n",
            "\n"
          ]
        }
      ]
    },
    {
      "cell_type": "code",
      "source": [
        "#dropping id column from both test and train - it is irrelevant data\n",
        "train = train.drop(\"id\")\n",
        "test = test.drop(\"id\")\n"
      ],
      "metadata": {
        "id": "RxjdrbHBgEK-"
      },
      "execution_count": null,
      "outputs": []
    },
    {
      "cell_type": "markdown",
      "source": [
        "## EDA"
      ],
      "metadata": {
        "id": "OJBoq-_B3Ea7"
      }
    },
    {
      "cell_type": "code",
      "source": [
        "#renaming cancel column to target\n",
        "train = train.withColumnRenamed(\"cancel\",\"target\")\n",
        "test = test.withColumnRenamed(\"cancel\",\"target\")"
      ],
      "metadata": {
        "id": "SbdlGyBx3YaE"
      },
      "execution_count": null,
      "outputs": []
    },
    {
      "cell_type": "code",
      "source": [
        "#checking the distribution of target variable for train dataset - it can be inferred that the data is highly imbalanced with 0 dominating the other two categories\n",
        "train.groupBy('target').count().orderBy('count').show()"
      ],
      "metadata": {
        "colab": {
          "base_uri": "https://localhost:8080/"
        },
        "id": "Vch0eo0X3Duq",
        "outputId": "7e9cfb45-2fa4-4bb9-b1e3-8e78641b53b5"
      },
      "execution_count": null,
      "outputs": [
        {
          "output_type": "stream",
          "name": "stdout",
          "text": [
            "+------+-----+\n",
            "|target|count|\n",
            "+------+-----+\n",
            "|     1| 8630|\n",
            "|     2|26227|\n",
            "|     0|85143|\n",
            "+------+-----+\n",
            "\n"
          ]
        }
      ]
    },
    {
      "cell_type": "code",
      "source": [
        "#checking the distribution of target variable for test dataset - it can be inferred that the data is highly imbalanced with 0 dominating the other two categories\n",
        "test.groupBy('target').count().orderBy('count').show()"
      ],
      "metadata": {
        "colab": {
          "base_uri": "https://localhost:8080/"
        },
        "id": "Mv4jv6UM3DrT",
        "outputId": "aac3f99d-70d9-46fc-8393-2afdb9ad5dfe"
      },
      "execution_count": null,
      "outputs": [
        {
          "output_type": "stream",
          "name": "stdout",
          "text": [
            "+------+------+\n",
            "|target| count|\n",
            "+------+------+\n",
            "|     1| 24772|\n",
            "|     2| 75597|\n",
            "|     0|244522|\n",
            "+------+------+\n",
            "\n"
          ]
        }
      ]
    },
    {
      "cell_type": "code",
      "source": [
        "#from printSchema it can be inferred that\n",
        "#the categorical columns are - house_color, credit, coverage_type, dwelling_type, sales_channel, ni_gender\n",
        "train.printSchema()"
      ],
      "metadata": {
        "colab": {
          "base_uri": "https://localhost:8080/"
        },
        "id": "hq9O98L13DoM",
        "outputId": "691bb4f0-f644-4283-ce9a-24310b554006"
      },
      "execution_count": null,
      "outputs": [
        {
          "output_type": "stream",
          "name": "stdout",
          "text": [
            "root\n",
            " |-- year: integer (nullable = true)\n",
            " |-- zip.code: double (nullable = true)\n",
            " |-- house.color: string (nullable = true)\n",
            " |-- ni.age: double (nullable = true)\n",
            " |-- len.at.res: double (nullable = true)\n",
            " |-- credit: string (nullable = true)\n",
            " |-- coverage.type: string (nullable = true)\n",
            " |-- dwelling.type: string (nullable = true)\n",
            " |-- premium: double (nullable = true)\n",
            " |-- sales.channel: string (nullable = true)\n",
            " |-- ni.gender: string (nullable = true)\n",
            " |-- ni.marital.status: double (nullable = true)\n",
            " |-- n.adults: double (nullable = true)\n",
            " |-- n.children: double (nullable = true)\n",
            " |-- tenure: double (nullable = true)\n",
            " |-- claim.ind: double (nullable = true)\n",
            " |-- target: integer (nullable = true)\n",
            "\n"
          ]
        }
      ]
    },
    {
      "cell_type": "code",
      "source": [
        "#there are 4 column which are contineous - 'ni.age', 'len.at.res', 'premium', 'tenure'\n",
        "train.show()"
      ],
      "metadata": {
        "colab": {
          "base_uri": "https://localhost:8080/"
        },
        "id": "R0tbhrgX4uKo",
        "outputId": "b2e8e23f-47f3-4154-d09a-f1c0fbc9c570"
      },
      "execution_count": null,
      "outputs": [
        {
          "output_type": "stream",
          "name": "stdout",
          "text": [
            "+----+--------+-----------+------+----------+------+-------------+-------------+-----------------+-------------+---------+-----------------+--------+----------+------+---------+------+\n",
            "|year|zip.code|house.color|ni.age|len.at.res|credit|coverage.type|dwelling.type|          premium|sales.channel|ni.gender|ni.marital.status|n.adults|n.children|tenure|claim.ind|target|\n",
            "+----+--------+-----------+------+----------+------+-------------+-------------+-----------------+-------------+---------+-----------------+--------+----------+------+---------+------+\n",
            "|2016| 50001.0|      white|  44.0|      25.0|  high|            A|        Condo|      950.7386189|       Broker|        F|              1.0|     3.0|       0.0|  17.0|      0.0|     0|\n",
            "|2015| 50048.0|     yellow|  31.0|      22.0|  high|            B|       Tenant|      1003.420558|       Broker|        M|              0.0|     2.0|       0.0|   8.0|      1.0|     0|\n",
            "|2015| 98034.0|      white|  39.0|      17.0|   low|            C|        House|822.5538692000001|        Phone|        M|              1.0|     3.0|       0.0|   8.0|      0.0|     0|\n",
            "|2013| 98022.0|      white|  37.0|      22.0|  high|            B|        House|      827.0485096|        Phone|        F|              1.0|     1.0|       2.0|  16.0|      0.0|     0|\n",
            "|2013| 80011.0|        red|  39.0|      13.0|medium|            C|        Condo|      706.7646465|       Broker|        F|              1.0|     1.0|       0.0|  14.0|      0.0|     0|\n",
            "|2015| 50047.0|      white|  26.0|      14.0|  high|            C|        House|      999.6689768|       Broker|        M|              1.0|     4.0|       1.0|   4.0|      0.0|     0|\n",
            "|2015| 50012.0|       blue|  36.0|      17.0|  high|            A|       Tenant|      881.7901489|        Phone|        F|              1.0|     2.0|       1.0|   2.0|      1.0|     0|\n",
            "|2015| 50008.0|      white|  37.0|      12.0|medium|            A|       Tenant|824.6881802999999|       Broker|        F|              0.0|     4.0|       0.0|   0.0|      0.0|     0|\n",
            "|2015| 50039.0|        red|  47.0|      12.0|  high|            C|        House|      824.1878299|       Broker|        M|              1.0|     1.0|       3.0|  18.0|      1.0|     0|\n",
            "|2015| 85011.0|      white|  29.0|       6.0|  high|            A|        Condo|      1041.867835|       Broker|        F|              1.0|     1.0|       0.0|   6.0|      0.0|     0|\n",
            "|2014| 15054.0|        red|  61.0|       8.0|  high|            A|        House|824.6099092999999|       Broker|        M|              1.0|     1.0|       1.0|  23.0|      0.0|     0|\n",
            "|2016| 15009.0|       blue|  42.0|      19.0|  high|            C|        House|      882.0434817|        Phone|        M|              0.0|     2.0|       1.0|  14.0|      0.0|     0|\n",
            "|2016| 80014.0|        red|  33.0|      13.0|   low|            C|        Condo|      902.3094373|       Broker|        F|              0.0|     1.0|       0.0|   6.0|      1.0|     0|\n",
            "|2013| 80002.0|       blue|  53.0|      13.0|medium|            B|        House|      767.0643712|       Broker|        M|              1.0|     3.0|       1.0|  15.0|      0.0|     0|\n",
            "|2014| 80016.0|      white|  49.0|      12.0|   low|            A|       Tenant|      965.7790739|       Broker|        M|              1.0|     3.0|       1.0|  19.0|      0.0|     0|\n",
            "|2015| 15043.0|       blue|  62.0|      14.0|  high|            A|        Condo|914.6389207999998|       Broker|        M|              0.0|     2.0|       0.0|  12.0|      0.0|     0|\n",
            "|2014| 85044.0|       blue|  47.0|      21.0|   low|            A|        Condo|      790.2149754|       Broker|        M|              1.0|     1.0|       1.0|  14.0|      0.0|     0|\n",
            "|2015| 85030.0|       blue|  27.0|      25.0|medium|            A|        House|      942.5149163|        Phone|        F|              0.0|     1.0|       0.0|   7.0|      0.0|     0|\n",
            "|2016| 15056.0|       blue|  51.0|      14.0|medium|            B|        House|      726.7544091|       Broker|        M|              0.0|     2.0|       0.0|  22.0|      0.0|     0|\n",
            "|2016| 15050.0|      white|  46.0|      10.0|  high|            A|       Tenant|       990.864223|        Phone|     null|              1.0|     3.0|       2.0|  15.0|      0.0|     0|\n",
            "+----+--------+-----------+------+----------+------+-------------+-------------+-----------------+-------------+---------+-----------------+--------+----------+------+---------+------+\n",
            "only showing top 20 rows\n",
            "\n"
          ]
        }
      ]
    },
    {
      "cell_type": "code",
      "source": [
        "#formatting col names - replacing . with _\n",
        "#Creating a customised function\n",
        "def clean_column_names(name):\n",
        "    answer = name\n",
        "    for i, j in ((\" \", \"_\"), (\"-\", \"_\"), (\"/\", \"_\"), (\".\", \"_\")):\n",
        "        answer = answer.replace(i, j)\n",
        "    return \"\".join([char for char in answer if char.isalpha() or char.isdigit() or char == \"_\"])"
      ],
      "metadata": {
        "id": "wdwIim-xTwba"
      },
      "execution_count": null,
      "outputs": []
    },
    {
      "cell_type": "code",
      "source": [
        "train = train.toDF(*[clean_column_names(name) for name in train.columns])\n",
        "test = test.toDF(*[clean_column_names(name) for name in test.columns])"
      ],
      "metadata": {
        "id": "-6kKAnRWT5pS"
      },
      "execution_count": null,
      "outputs": []
    },
    {
      "cell_type": "code",
      "source": [
        "#finding null values in the train datframe\n",
        "#by this it can be inferred that only in year and target column null values are not there\n",
        "#highest no. of null values are there in coverage_type\n",
        "from pyspark.sql.functions import col,isnan, when, count\n",
        "train.select([count(when(isnan(c) | col(c).isNull(), c)).alias(c) for c in train.columns]).show()"
      ],
      "metadata": {
        "colab": {
          "base_uri": "https://localhost:8080/"
        },
        "id": "TBud8di_3Dlg",
        "outputId": "75ef1436-e4c7-4438-e80f-31524e675244"
      },
      "execution_count": null,
      "outputs": [
        {
          "output_type": "stream",
          "name": "stdout",
          "text": [
            "+----+--------+-----------+------+----------+------+-------------+-------------+-------+-------------+---------+-----------------+--------+----------+------+---------+------+\n",
            "|year|zip_code|house_color|ni_age|len_at_res|credit|coverage_type|dwelling_type|premium|sales_channel|ni_gender|ni_marital_status|n_adults|n_children|tenure|claim_ind|target|\n",
            "+----+--------+-----------+------+----------+------+-------------+-------------+-------+-------------+---------+-----------------+--------+----------+------+---------+------+\n",
            "|   0|     121|        109|   133|       113|   102|          138|          128|    102|          118|      123|              118|      92|        96|   124|      128|     0|\n",
            "+----+--------+-----------+------+----------+------+-------------+-------------+-------+-------------+---------+-----------------+--------+----------+------+---------+------+\n",
            "\n"
          ]
        }
      ]
    },
    {
      "cell_type": "code",
      "source": [
        "#finding null values in the test datframe\n",
        "#by this it can be inferred that only in year and target column null values are not there\n",
        "#highest no. of null values are there in ni_marital_status\n",
        "\n",
        "test.select([count(when(isnan(c) | col(c).isNull(), c)).alias(c) for c in test.columns]).show()"
      ],
      "metadata": {
        "colab": {
          "base_uri": "https://localhost:8080/"
        },
        "id": "dD7iFmNk3Dig",
        "outputId": "74f49530-5a3f-43f8-b214-39c67f7e02f1"
      },
      "execution_count": null,
      "outputs": [
        {
          "output_type": "stream",
          "name": "stdout",
          "text": [
            "+----+--------+-----------+------+----------+------+-------------+-------------+-------+-------------+---------+-----------------+--------+----------+------+---------+------+\n",
            "|year|zip_code|house_color|ni_age|len_at_res|credit|coverage_type|dwelling_type|premium|sales_channel|ni_gender|ni_marital_status|n_adults|n_children|tenure|claim_ind|target|\n",
            "+----+--------+-----------+------+----------+------+-------------+-------------+-------+-------------+---------+-----------------+--------+----------+------+---------+------+\n",
            "|   0|     313|        319|   293|       295|   289|          316|          339|    331|          324|      314|              345|     323|       319|   323|      324|     0|\n",
            "+----+--------+-----------+------+----------+------+-------------+-------------+-------+-------------+---------+-----------------+--------+----------+------+---------+------+\n",
            "\n"
          ]
        }
      ]
    },
    {
      "cell_type": "markdown",
      "source": [
        "## DATA CLEANING & FEATURE ENGINEERING"
      ],
      "metadata": {
        "id": "SmepVbTXk1Xb"
      }
    },
    {
      "cell_type": "code",
      "source": [
        "# imputing continuous values in train and test with mean\n",
        "from pyspark.sql.functions import mean, col, coalesce, lit\n",
        "\n",
        "\n",
        "cols = ['ni_age', 'len_at_res', 'premium', 'tenure']\n",
        "\n",
        "# calculate mean values for selected columns in the train\n",
        "mean_values = {}\n",
        "for col_name in cols:\n",
        "    mean_value = train.select(mean(col(col_name))).collect()[0][0]\n",
        "    mean_values[col_name] = mean_value\n",
        "\n",
        "# fill missing values in selected column for both datasets using mean values\n",
        "for col_name in cols:\n",
        "    train_df = train.withColumn(col_name, coalesce(col(col_name), lit(mean_values[col_name])))\n",
        "    test_df = test.withColumn(col_name, coalesce(col(col_name), lit(mean_values[col_name])))\n",
        "\n",
        "# first 10 rows of the training and test DataFrames\n",
        "train_df.show(10)\n",
        "test_df.show(10)\n"
      ],
      "metadata": {
        "colab": {
          "base_uri": "https://localhost:8080/"
        },
        "id": "b68eRyAx3Dcv",
        "outputId": "4f026646-f6d3-4589-cfe5-2321b83dcaeb"
      },
      "execution_count": null,
      "outputs": [
        {
          "output_type": "stream",
          "name": "stdout",
          "text": [
            "+----+--------+-----------+------+----------+------+-------------+-------------+-----------------+-------------+---------+-----------------+--------+----------+------+---------+------+\n",
            "|year|zip_code|house_color|ni_age|len_at_res|credit|coverage_type|dwelling_type|          premium|sales_channel|ni_gender|ni_marital_status|n_adults|n_children|tenure|claim_ind|target|\n",
            "+----+--------+-----------+------+----------+------+-------------+-------------+-----------------+-------------+---------+-----------------+--------+----------+------+---------+------+\n",
            "|2016| 50001.0|      white|  44.0|      25.0|  high|            A|        Condo|      950.7386189|       Broker|        F|              1.0|     3.0|       0.0|  17.0|      0.0|     0|\n",
            "|2015| 50048.0|     yellow|  31.0|      22.0|  high|            B|       Tenant|      1003.420558|       Broker|        M|              0.0|     2.0|       0.0|   8.0|      1.0|     0|\n",
            "|2015| 98034.0|      white|  39.0|      17.0|   low|            C|        House|822.5538692000001|        Phone|        M|              1.0|     3.0|       0.0|   8.0|      0.0|     0|\n",
            "|2013| 98022.0|      white|  37.0|      22.0|  high|            B|        House|      827.0485096|        Phone|        F|              1.0|     1.0|       2.0|  16.0|      0.0|     0|\n",
            "|2013| 80011.0|        red|  39.0|      13.0|medium|            C|        Condo|      706.7646465|       Broker|        F|              1.0|     1.0|       0.0|  14.0|      0.0|     0|\n",
            "|2015| 50047.0|      white|  26.0|      14.0|  high|            C|        House|      999.6689768|       Broker|        M|              1.0|     4.0|       1.0|   4.0|      0.0|     0|\n",
            "|2015| 50012.0|       blue|  36.0|      17.0|  high|            A|       Tenant|      881.7901489|        Phone|        F|              1.0|     2.0|       1.0|   2.0|      1.0|     0|\n",
            "|2015| 50008.0|      white|  37.0|      12.0|medium|            A|       Tenant|824.6881802999999|       Broker|        F|              0.0|     4.0|       0.0|   0.0|      0.0|     0|\n",
            "|2015| 50039.0|        red|  47.0|      12.0|  high|            C|        House|      824.1878299|       Broker|        M|              1.0|     1.0|       3.0|  18.0|      1.0|     0|\n",
            "|2015| 85011.0|      white|  29.0|       6.0|  high|            A|        Condo|      1041.867835|       Broker|        F|              1.0|     1.0|       0.0|   6.0|      0.0|     0|\n",
            "+----+--------+-----------+------+----------+------+-------------+-------------+-----------------+-------------+---------+-----------------+--------+----------+------+---------+------+\n",
            "only showing top 10 rows\n",
            "\n",
            "+----+--------+-----------+------+-----------+------+-------------+-------------+-----------------+-------------+---------+-----------------+--------+----------+------+---------+------+\n",
            "|year|zip_code|house_color|ni_age| len_at_res|credit|coverage_type|dwelling_type|          premium|sales_channel|ni_gender|ni_marital_status|n_adults|n_children|tenure|claim_ind|target|\n",
            "+----+--------+-----------+------+-----------+------+-------------+-------------+-----------------+-------------+---------+-----------------+--------+----------+------+---------+------+\n",
            "|2013| 50020.0|      white|  33.0|       16.0|  high|            C|        House|       796.385532|       Broker|        F|              1.0|     1.0|       3.0|   2.0|      1.0|     0|\n",
            "|2013| 80002.0|        red|  56.0|       10.0|  high|            A|        House|      773.2326869|       Broker|        M|              1.0|     2.0|       0.0|  14.0|      0.0|     0|\n",
            "|2015| 85005.0|      white|  46.0|       12.0|  high|            C|        Condo|      943.0471423|       Broker|        F|              1.0|     2.0|       2.0|   9.0|      0.0|     0|\n",
            "|2015| 98026.0|       blue|  45.0|       15.0|  high|            A|       Tenant|      949.3688474|       Broker|        M|              1.0|     1.0|       3.0|  12.0|      0.0|     0|\n",
            "|2014| 50022.0|      white|  28.0|       19.0|   low|            C|       Tenant|      875.8736125|       Broker|        F|              1.0|     1.0|       1.0|   7.0|      1.0|     2|\n",
            "|2015| 98001.0|      white|  54.0|       14.0|  high|            C|        House|888.3005994999999|        Phone|        F|              0.0|     2.0|       0.0|  14.0|      1.0|     1|\n",
            "|2014| 80028.0|        red|  38.0|       13.0|medium|            A|        Condo|       1011.25792|        Phone|        F|              0.0|     2.0|       0.0|  10.0|      0.0|     0|\n",
            "|2013| 80016.0|        red|  62.0|        9.0|  high|            A|        House|      795.6133007|        Phone|        F|              1.0|     2.0|       1.0|  15.0|      0.0|     0|\n",
            "|2014| 80002.0|      white|  39.0|23.54598582|medium|            B|       Tenant|      914.5372823|        Phone|        F|              0.0|     1.0|       0.0|  20.0|      0.0|     2|\n",
            "|2013| 85025.0|       blue|  40.0|       16.0|  high|            A|        House|      833.0867448|        Phone|        M|              1.0|     1.0|       2.0|  18.0|      1.0|     1|\n",
            "+----+--------+-----------+------+-----------+------+-------------+-------------+-----------------+-------------+---------+-----------------+--------+----------+------+---------+------+\n",
            "only showing top 10 rows\n",
            "\n"
          ]
        }
      ]
    },
    {
      "cell_type": "code",
      "source": [
        "#imputing categorical values in train and test with mode\n",
        "from pyspark.sql.functions import col, mode\n",
        "\n",
        "cols = ['year', 'zip_code', 'house_color', 'credit', 'coverage_type', 'dwelling_type', 'sales_channel', 'ni_gender', 'ni_marital_status', 'n_adults', 'n_children', 'claim_ind']\n",
        "\n",
        "# calculate mode values for selected columns in the train dataset\n",
        "mode_values = {}\n",
        "for col_name in cols:\n",
        "    mode_value = train_df.select(mode(col(col_name))).collect()[0][0]\n",
        "    mode_values[col_name] = mode_value\n",
        "\n",
        "# fill missing values in selected columns for both datasets using mode values\n",
        "for col_name in cols:\n",
        "    train_df = train_df.withColumn(col_name, coalesce(col(col_name), lit(mode_values[col_name])))\n",
        "    test_df = test_df.withColumn(col_name, coalesce(col(col_name), lit(mode_values[col_name])))\n",
        "\n",
        "\n",
        "# show the first 10 rows of the training and test DataFrames\n",
        "train_df.show(10)\n",
        "test_df.show(10)\n"
      ],
      "metadata": {
        "colab": {
          "base_uri": "https://localhost:8080/"
        },
        "id": "lozcyDloG0gv",
        "outputId": "95524649-b5ac-4823-eaba-57f1eb175a15"
      },
      "execution_count": null,
      "outputs": [
        {
          "output_type": "stream",
          "name": "stdout",
          "text": [
            "+----+--------+-----------+------+----------+------+-------------+-------------+-----------------+-------------+---------+-----------------+--------+----------+------+---------+------+\n",
            "|year|zip_code|house_color|ni_age|len_at_res|credit|coverage_type|dwelling_type|          premium|sales_channel|ni_gender|ni_marital_status|n_adults|n_children|tenure|claim_ind|target|\n",
            "+----+--------+-----------+------+----------+------+-------------+-------------+-----------------+-------------+---------+-----------------+--------+----------+------+---------+------+\n",
            "|2016| 50001.0|      white|  44.0|      25.0|  high|            A|        Condo|      950.7386189|       Broker|        F|              1.0|     3.0|       0.0|  17.0|      0.0|     0|\n",
            "|2015| 50048.0|     yellow|  31.0|      22.0|  high|            B|       Tenant|      1003.420558|       Broker|        M|              0.0|     2.0|       0.0|   8.0|      1.0|     0|\n",
            "|2015| 98034.0|      white|  39.0|      17.0|   low|            C|        House|822.5538692000001|        Phone|        M|              1.0|     3.0|       0.0|   8.0|      0.0|     0|\n",
            "|2013| 98022.0|      white|  37.0|      22.0|  high|            B|        House|      827.0485096|        Phone|        F|              1.0|     1.0|       2.0|  16.0|      0.0|     0|\n",
            "|2013| 80011.0|        red|  39.0|      13.0|medium|            C|        Condo|      706.7646465|       Broker|        F|              1.0|     1.0|       0.0|  14.0|      0.0|     0|\n",
            "|2015| 50047.0|      white|  26.0|      14.0|  high|            C|        House|      999.6689768|       Broker|        M|              1.0|     4.0|       1.0|   4.0|      0.0|     0|\n",
            "|2015| 50012.0|       blue|  36.0|      17.0|  high|            A|       Tenant|      881.7901489|        Phone|        F|              1.0|     2.0|       1.0|   2.0|      1.0|     0|\n",
            "|2015| 50008.0|      white|  37.0|      12.0|medium|            A|       Tenant|824.6881802999999|       Broker|        F|              0.0|     4.0|       0.0|   0.0|      0.0|     0|\n",
            "|2015| 50039.0|        red|  47.0|      12.0|  high|            C|        House|      824.1878299|       Broker|        M|              1.0|     1.0|       3.0|  18.0|      1.0|     0|\n",
            "|2015| 85011.0|      white|  29.0|       6.0|  high|            A|        Condo|      1041.867835|       Broker|        F|              1.0|     1.0|       0.0|   6.0|      0.0|     0|\n",
            "+----+--------+-----------+------+----------+------+-------------+-------------+-----------------+-------------+---------+-----------------+--------+----------+------+---------+------+\n",
            "only showing top 10 rows\n",
            "\n",
            "+----+--------+-----------+------+-----------+------+-------------+-------------+-----------------+-------------+---------+-----------------+--------+----------+------+---------+------+\n",
            "|year|zip_code|house_color|ni_age| len_at_res|credit|coverage_type|dwelling_type|          premium|sales_channel|ni_gender|ni_marital_status|n_adults|n_children|tenure|claim_ind|target|\n",
            "+----+--------+-----------+------+-----------+------+-------------+-------------+-----------------+-------------+---------+-----------------+--------+----------+------+---------+------+\n",
            "|2013| 50020.0|      white|  33.0|       16.0|  high|            C|        House|       796.385532|       Broker|        F|              1.0|     1.0|       3.0|   2.0|      1.0|     0|\n",
            "|2013| 80002.0|        red|  56.0|       10.0|  high|            A|        House|      773.2326869|       Broker|        M|              1.0|     2.0|       0.0|  14.0|      0.0|     0|\n",
            "|2015| 85005.0|      white|  46.0|       12.0|  high|            C|        Condo|      943.0471423|       Broker|        F|              1.0|     2.0|       2.0|   9.0|      0.0|     0|\n",
            "|2015| 98026.0|       blue|  45.0|       15.0|  high|            A|       Tenant|      949.3688474|       Broker|        M|              1.0|     1.0|       3.0|  12.0|      0.0|     0|\n",
            "|2014| 50022.0|      white|  28.0|       19.0|   low|            C|       Tenant|      875.8736125|       Broker|        F|              1.0|     1.0|       1.0|   7.0|      1.0|     2|\n",
            "|2015| 98001.0|      white|  54.0|       14.0|  high|            C|        House|888.3005994999999|        Phone|        F|              0.0|     2.0|       0.0|  14.0|      1.0|     1|\n",
            "|2014| 80028.0|        red|  38.0|       13.0|medium|            A|        Condo|       1011.25792|        Phone|        F|              0.0|     2.0|       0.0|  10.0|      0.0|     0|\n",
            "|2013| 80016.0|        red|  62.0|        9.0|  high|            A|        House|      795.6133007|        Phone|        F|              1.0|     2.0|       1.0|  15.0|      0.0|     0|\n",
            "|2014| 80002.0|      white|  39.0|23.54598582|medium|            B|       Tenant|      914.5372823|        Phone|        F|              0.0|     1.0|       0.0|  20.0|      0.0|     2|\n",
            "|2013| 85025.0|       blue|  40.0|       16.0|  high|            A|        House|      833.0867448|        Phone|        M|              1.0|     1.0|       2.0|  18.0|      1.0|     1|\n",
            "+----+--------+-----------+------+-----------+------+-------------+-------------+-----------------+-------------+---------+-----------------+--------+----------+------+---------+------+\n",
            "only showing top 10 rows\n",
            "\n"
          ]
        }
      ]
    },
    {
      "cell_type": "code",
      "source": [
        "#checking for outliers\n",
        "#according to boxplots outlier is present in all ni_age, len_at_res, premium and tenure columns\n",
        "#in order to verify it we used IQR for checking it in next cell\n",
        "import matplotlib.pyplot as plt\n",
        "import seaborn as sns\n",
        "\n",
        "# convert PySpark DataFrame to Pandas DataFrame\n",
        "train_df_pd = train_df.toPandas()\n",
        "\n",
        "# plot box plots for each continuous variable\n",
        "plt.figure(figsize=(15, 6))\n",
        "plt.subplot(2, 2, 1)\n",
        "sns.boxplot(data=train_df_pd, x='ni_age')\n",
        "plt.subplot(2, 2, 2)\n",
        "sns.boxplot(data=train_df_pd, x='len_at_res')\n",
        "plt.subplot(2, 2, 3)\n",
        "sns.boxplot(data=train_df_pd, x='premium')\n",
        "plt.subplot(2, 2, 4)\n",
        "sns.boxplot(data=train_df_pd, x='tenure')\n",
        "plt.show()\n"
      ],
      "metadata": {
        "colab": {
          "base_uri": "https://localhost:8080/",
          "height": 542
        },
        "id": "RThkXFX6G0dR",
        "outputId": "71dc4977-f847-406d-ba11-e6e12d04541a"
      },
      "execution_count": null,
      "outputs": [
        {
          "output_type": "display_data",
          "data": {
            "text/plain": [
              "<Figure size 1500x600 with 4 Axes>"
            ],
            "image/png": "[encoded data removed]"
          },
          "metadata": {}
        }
      ]
    },
    {
      "cell_type": "code",
      "source": [
        "#checking for outliers in continuous variable\n",
        "#after using IQR we found that outliers is not present in len_at_res, ni_age, premium, tenure\n",
        "from pyspark.sql.functions import col\n",
        "\n",
        "continuous_columns = ['len_at_res', 'ni_age', 'premium', 'tenure']\n",
        "\n",
        "for column in continuous_columns:\n",
        "    # Calculate the first and third quartiles\n",
        "    quantiles = train_df.approxQuantile(column, [0.01, 0.99], 0.25)\n",
        "    q1, q3 = quantiles[0], quantiles[1]\n",
        "    print(column, q1, q3)\n",
        "\n",
        "    # Calculate the interquartile range (IQR)\n",
        "    iqr = q3 - q1\n",
        "\n",
        "    # Calculate the lower and upper bounds for outliers\n",
        "    lower_bound = q1 - (1.5 * iqr)\n",
        "    upper_bound = q3 + (1.5 * iqr)\n",
        "    print(lower_bound)\n",
        "    print(upper_bound)\n",
        "\n",
        "    # Count the number of outliers\n",
        "    num_outliers_train = train_df.filter((col(column) < lower_bound) | (col(column) > upper_bound)).count()\n",
        "    num_outliers_test = test_df.filter((col(column) < lower_bound) | (col(column) > upper_bound)).count()\n",
        "    print(f\"{column}: {num_outliers_train} outliers\")\n",
        "    print(f\"{column}: {num_outliers_test} outliers\")\n"
      ],
      "metadata": {
        "colab": {
          "base_uri": "https://localhost:8080/"
        },
        "id": "5tIpJmHGG0bQ",
        "outputId": "f391369e-a827-4894-ecc7-6eb863c76626"
      },
      "execution_count": null,
      "outputs": [
        {
          "output_type": "stream",
          "name": "stdout",
          "text": [
            "len_at_res 2.0 49.98815525\n",
            "-69.982232875\n",
            "121.970388125\n",
            "len_at_res: 0 outliers\n",
            "len_at_res: 0 outliers\n",
            "ni_age 18.0 318.6773963\n",
            "-433.01609444999997\n",
            "769.6934907499999\n",
            "ni_age: 0 outliers\n",
            "ni_age: 0 outliers\n",
            "premium 614.7618825000001 1235.480942\n",
            "-316.31670674999975\n",
            "2166.55953125\n",
            "premium: 0 outliers\n",
            "premium: 0 outliers\n",
            "tenure 0.0 32.0\n",
            "-48.0\n",
            "80.0\n",
            "tenure: 0 outliers\n",
            "tenure: 0 outliers\n"
          ]
        }
      ]
    },
    {
      "cell_type": "code",
      "source": [
        "#we found that in column 'len_at_res' and 'ni_age' has no outliers but we are imputing the rows where the age is greater than 100.\n",
        "from pyspark.sql.functions import col\n",
        "train_df.filter(col(\"ni_age\") > 100).count()\n"
      ],
      "metadata": {
        "colab": {
          "base_uri": "https://localhost:8080/"
        },
        "id": "DwpTBtYHG0Xz",
        "outputId": "c04c2052-e05c-4f0a-f5ed-8c40cc339394"
      },
      "execution_count": null,
      "outputs": [
        {
          "output_type": "execute_result",
          "data": {
            "text/plain": [
              "97"
            ]
          },
          "metadata": {},
          "execution_count": 49
        }
      ]
    },
    {
      "cell_type": "code",
      "source": [
        "#how many rows we have to delete where age is greater than 100 which are 580 that can be considered as outliers.\n",
        "#For values in range 100-180 we imputed it to 100 and values greater than 180 dividing it by 10 and taking integer values since a policy owner should be more than 18years\n",
        "test_df.filter(col(\"ni_age\") > 100).count()"
      ],
      "metadata": {
        "colab": {
          "base_uri": "https://localhost:8080/"
        },
        "id": "1YOf8BM3G0VB",
        "outputId": "b0c50839-06b8-4862-bfe5-4728eb4b7f4d"
      },
      "execution_count": null,
      "outputs": [
        {
          "output_type": "execute_result",
          "data": {
            "text/plain": [
              "283"
            ]
          },
          "metadata": {},
          "execution_count": 50
        }
      ]
    },
    {
      "cell_type": "code",
      "source": [
        "from pyspark.sql.functions import when, col\n",
        "\n",
        "mask_age = train_df.filter(col('ni_age') > 100)\n",
        "mask_age = mask_age.withColumn('ni_age', when((col('ni_age') >= 100) & (col('ni_age') <= 180), 100).otherwise(col('ni_age').substr(1, 2).cast('int')))\n"
      ],
      "metadata": {
        "id": "mcQFa-MJ3DZ5"
      },
      "execution_count": null,
      "outputs": []
    },
    {
      "cell_type": "code",
      "source": [
        "\n",
        "# create a new column with masked age\n",
        "new_age_col = when((col('ni_age') > 100) & (col('ni_age') <= 180), 100).otherwise(col('ni_age').substr(0, 2).cast('int'))\n",
        "\n",
        "# create a new DataFrame with the updated values\n",
        "train_df = train_df.withColumn('ni_age', new_age_col)\n",
        "train_df = train_df.drop(\"ni_age\")"
      ],
      "metadata": {
        "id": "gcVMLbRa3DXK"
      },
      "execution_count": null,
      "outputs": []
    },
    {
      "cell_type": "code",
      "source": [
        "#replicating for test\n",
        "mask_age = test_df.filter(col('ni_age') > 100)\n",
        "mask_age = mask_age.withColumn('ni_age', when((col('ni_age') >= 100) & (col('ni_age') <= 180), 100).otherwise(col('ni_age').substr(1, 2).cast('int')))\n",
        "# create a new column with masked age\n",
        "new_age_col = when((col('ni_age') > 100) & (col('ni_age') <= 180), 100).otherwise(col('ni_age').substr(0, 2).cast('int'))\n",
        "\n",
        "# create a new DataFrame with the updated values\n",
        "test_df = test_df.withColumn('ni_age', new_age_col)\n",
        "test_df = test_df.drop(\"ni_age\")"
      ],
      "metadata": {
        "id": "j_Xjuu8ZMSsN"
      },
      "execution_count": null,
      "outputs": []
    },
    {
      "cell_type": "code",
      "source": [
        "# imputing continuous values in train and test with mean\n",
        "from pyspark.sql.functions import mean, col, coalesce, lit\n",
        "\n",
        "cols = ['len_at_res', 'premium']\n",
        "\n",
        "# calculate mean values for selected columns in the training dataset\n",
        "mean_values = {}\n",
        "for col_name in cols:\n",
        "    mean_value = train_df.select(mean(col(col_name))).collect()[0][0]\n",
        "    mean_values[col_name] = mean_value\n",
        "\n",
        "# fill missing values in selected columns for both datasets using mean values\n",
        "for col_name in cols:\n",
        "    train_df = train_df.withColumn(col_name, coalesce(col(col_name), lit(mean_values[col_name])))\n",
        "    test_df = test_df.withColumn(col_name, coalesce(col(col_name), lit(mean_values[col_name])))\n"
      ],
      "metadata": {
        "id": "GSOObQhbcecj"
      },
      "execution_count": null,
      "outputs": []
    },
    {
      "cell_type": "code",
      "source": [
        "#checking\n",
        "from pyspark.sql.functions import col,isnan, when, count\n",
        "train_df.select([count(when(isnan(c) | col(c).isNull(), c)).alias(c) for c in train_df.columns]).show()\n"
      ],
      "metadata": {
        "colab": {
          "base_uri": "https://localhost:8080/"
        },
        "id": "mt6-uuupa-zC",
        "outputId": "faf2a3fb-9ee3-406a-cf86-1d35e43af177"
      },
      "execution_count": null,
      "outputs": [
        {
          "output_type": "stream",
          "name": "stdout",
          "text": [
            "+----+--------+-----------+----------+------+-------------+-------------+-------+-------------+---------+-----------------+--------+----------+------+---------+------+\n",
            "|year|zip_code|house_color|len_at_res|credit|coverage_type|dwelling_type|premium|sales_channel|ni_gender|ni_marital_status|n_adults|n_children|tenure|claim_ind|target|\n",
            "+----+--------+-----------+----------+------+-------------+-------------+-------+-------------+---------+-----------------+--------+----------+------+---------+------+\n",
            "|   0|       0|          0|         0|     0|            0|            0|      0|            0|        0|                0|       0|         0|     0|        0|     0|\n",
            "+----+--------+-----------+----------+------+-------------+-------------+-------+-------------+---------+-----------------+--------+----------+------+---------+------+\n",
            "\n"
          ]
        }
      ]
    },
    {
      "cell_type": "code",
      "source": [
        "#checking\n",
        "from pyspark.sql.functions import col,isnan, when, count\n",
        "test_df.select([count(when(isnan(c) | col(c).isNull(), c)).alias(c) for c in test_df.columns]).show()\n"
      ],
      "metadata": {
        "colab": {
          "base_uri": "https://localhost:8080/"
        },
        "id": "Y27bqXV3dMCt",
        "outputId": "49c7fec9-35b8-4cee-a163-7b9dae5cba47"
      },
      "execution_count": null,
      "outputs": [
        {
          "output_type": "stream",
          "name": "stdout",
          "text": [
            "+----+--------+-----------+----------+------+-------------+-------------+-------+-------------+---------+-----------------+--------+----------+------+---------+------+\n",
            "|year|zip_code|house_color|len_at_res|credit|coverage_type|dwelling_type|premium|sales_channel|ni_gender|ni_marital_status|n_adults|n_children|tenure|claim_ind|target|\n",
            "+----+--------+-----------+----------+------+-------------+-------------+-------+-------------+---------+-----------------+--------+----------+------+---------+------+\n",
            "|   0|       0|          0|         0|     0|            0|            0|      0|            0|        0|                0|       0|         0|     0|        0|     0|\n",
            "+----+--------+-----------+----------+------+-------------+-------------+-------+-------------+---------+-----------------+--------+----------+------+---------+------+\n",
            "\n"
          ]
        }
      ]
    },
    {
      "cell_type": "code",
      "source": [
        "columns_to_encode  = ['house_color', 'coverage_type', 'dwelling_type', 'sales_channel', 'ni_gender', 'credit']"
      ],
      "metadata": {
        "id": "b8zNUf6UQV38"
      },
      "execution_count": null,
      "outputs": []
    },
    {
      "cell_type": "code",
      "source": [
        "#using string indexer for encoding\n",
        "indexers = [StringIndexer(inputCol=col, outputCol=col+\"_indexed\").fit(train_df) for col in columns_to_encode ]\n",
        "for indexer in indexers:\n",
        "\n",
        "  train_df = indexer.transform(train_df)\n",
        "  test_df = indexer.transform(test_df)\n"
      ],
      "metadata": {
        "id": "Gg0HQb7HMSox"
      },
      "execution_count": null,
      "outputs": []
    },
    {
      "cell_type": "code",
      "source": [
        "train_df = train_df.drop('house_color','coverage_type','dwelling_type','sales_channel','ni_gender','credit')"
      ],
      "metadata": {
        "id": "F8fxrhhEMSlr"
      },
      "execution_count": null,
      "outputs": []
    },
    {
      "cell_type": "code",
      "source": [
        "test_df = test_df.drop('house_color','coverage_type','dwelling_type','sales_channel','ni_gender','credit')"
      ],
      "metadata": {
        "id": "7uZLXGhxMSi1"
      },
      "execution_count": null,
      "outputs": []
    },
    {
      "cell_type": "code",
      "source": [
        "CONTINUOUS_COLUMNS = [ 'year',\n",
        " 'zip_code',\n",
        " 'len_at_res',\n",
        " 'premium',\n",
        " 'ni_marital_status',\n",
        " 'n_adults',\n",
        " 'n_children',\n",
        "'tenure',\n",
        " 'claim_ind',\n",
        " 'house_color_indexed',\n",
        " 'coverage_type_indexed',\n",
        "'dwelling_type_indexed',\n",
        " 'sales_channel_indexed',\n",
        " 'ni_gender_indexed',\n",
        " 'credit_indexed',\n",
        " ]\n",
        "\n"
      ],
      "metadata": {
        "id": "Hj_K89t9Rrp9"
      },
      "execution_count": null,
      "outputs": []
    },
    {
      "cell_type": "code",
      "source": [
        "train_df.columns"
      ],
      "metadata": {
        "colab": {
          "base_uri": "https://localhost:8080/"
        },
        "id": "0ko1En2MdemV",
        "outputId": "6a03463c-d722-4050-beac-e8b018685c52"
      },
      "execution_count": null,
      "outputs": [
        {
          "output_type": "execute_result",
          "data": {
            "text/plain": [
              "['year',\n",
              " 'zip_code',\n",
              " 'len_at_res',\n",
              " 'premium',\n",
              " 'ni_marital_status',\n",
              " 'n_adults',\n",
              " 'n_children',\n",
              " 'tenure',\n",
              " 'claim_ind',\n",
              " 'target',\n",
              " 'house_color_indexed',\n",
              " 'coverage_type_indexed',\n",
              " 'dwelling_type_indexed',\n",
              " 'sales_channel_indexed',\n",
              " 'ni_gender_indexed',\n",
              " 'credit_indexed']"
            ]
          },
          "metadata": {},
          "execution_count": 63
        }
      ]
    },
    {
      "cell_type": "code",
      "source": [
        "#using VectorAssembler for creating a vector\n",
        "from pyspark.ml.feature import VectorAssembler\n",
        "output = \"vector_feature\"\n",
        "va = VectorAssembler(inputCols = CONTINUOUS_COLUMNS, outputCol = output)\n",
        "train_dfv = va.transform(train_df).select(output, \"target\")\n",
        "test_dfv = va.transform(test_df).select(output, \"target\")"
      ],
      "metadata": {
        "id": "UP4v79pAVq4B"
      },
      "execution_count": null,
      "outputs": []
    },
    {
      "cell_type": "code",
      "source": [
        "from pyspark.sql.functions import col\n",
        "\n",
        "# convert columns from IntegerType to DoubleType\n",
        "train_df = train_df.select([col(c).cast(\"double\") if t == \"int\" else col(c) for (c, t) in train_df.dtypes])\n",
        "test_df = test_df.select([col(c).cast(\"double\") if t == \"int\" else col(c) for (c, t) in test_df.dtypes])\n"
      ],
      "metadata": {
        "id": "5KNuXwP0SO_1"
      },
      "execution_count": null,
      "outputs": []
    },
    {
      "cell_type": "markdown",
      "source": [
        "## PLOTS"
      ],
      "metadata": {
        "id": "iCBFTkDkmtGX"
      }
    },
    {
      "cell_type": "code",
      "source": [
        "import pandas as pd\n",
        "import matplotlib.pyplot as plt\n",
        "\n",
        "#converting to pandas dataframe\n",
        "df_train = train.toPandas()\n",
        "grouped_credit = df_train.groupby('credit')['target'].value_counts(normalize=True).unstack()\n",
        "\n",
        "# Reset the index and rename columns\n",
        "grouped_credit.reset_index(inplace=True)\n",
        "grouped_credit.columns = ['Credit', 'No Cancel', 'Can be Convinced', 'Cancel']\n",
        "\n",
        "print(grouped_credit)\n",
        "\n",
        "#bar plot\n",
        "ax = grouped_credit.plot(x='Credit', y=['No Cancel', 'Can be Convinced', 'Cancel'], kind='bar', figsize=(12, 6))\n",
        "plt.title('Cancellation Rate by Credit Level')\n",
        "plt.xlabel('Credit Level')\n",
        "plt.ylabel('Proportion')\n",
        "plt.xticks(rotation=0)\n",
        "plt.show()"
      ],
      "metadata": {
        "colab": {
          "base_uri": "https://localhost:8080/",
          "height": 633
        },
        "id": "R2p4f6Utmr_C",
        "outputId": "620fb504-b881-4478-ed16-43688fa3d1aa"
      },
      "execution_count": null,
      "outputs": [
        {
          "output_type": "stream",
          "name": "stdout",
          "text": [
            "   Credit  No Cancel  Can be Convinced    Cancel\n",
            "0    high   0.791682          0.048018  0.160299\n",
            "1     low   0.486480          0.112063  0.401457\n",
            "2  medium   0.642609          0.109764  0.247627\n"
          ]
        },
        {
          "output_type": "display_data",
          "data": {
            "text/plain": [
              "<Figure size 1200x600 with 1 Axes>"
            ],
            "image/png": "[encoded data removed]"
          },
          "metadata": {}
        }
      ]
    },
    {
      "cell_type": "markdown",
      "source": [
        "The bar chart displays the percentage of policies that were canceled based on the credit level of customers from the training dataset. Customers who have high credit levels had the lowest rate of policy cancellations, whereas customers who have low credit levels had the highest rate of policy cancellations. Customers with medium credit levels were in the middle. This implies that credit level is a significant factor in predicting policy cancellations."
      ],
      "metadata": {
        "id": "8dgHZ3zQ1CXi"
      }
    },
    {
      "cell_type": "code",
      "source": [
        "grouped = df_train.groupby('tenure')['target'].value_counts(normalize=True).unstack()\n",
        "\n",
        "# Plotting the line plot\n",
        "grouped.plot(kind='line', figsize=(10, 6))\n",
        "plt.xlabel('Tenure')\n",
        "plt.ylabel('Cancellation Rate')\n",
        "plt.title('Cancellation Rate by Tenure')\n",
        "plt.legend(title='Cancellation Type', labels=['No Cancel', 'Can be Convinced', 'Cancel'])\n",
        "plt.show()"
      ],
      "metadata": {
        "colab": {
          "base_uri": "https://localhost:8080/",
          "height": 564
        },
        "id": "yuin6eG5onwK",
        "outputId": "6c259bdd-0bc9-450c-fa26-14a1474fd08b"
      },
      "execution_count": null,
      "outputs": [
        {
          "output_type": "display_data",
          "data": {
            "text/plain": [
              "<Figure size 1000x600 with 1 Axes>"
            ],
            "image/png": "[encoded data removed]"
          },
          "metadata": {}
        }
      ]
    },
    {
      "cell_type": "markdown",
      "source": [
        "This graph illustrates how the cancellation rate changes with respect to the customer's tenure. There are three different types of cancellations represented by three lines on the graph: no cancellation, possible to be convinced not to cancel, and cancellation. The graph demonstrates that for all three types of cancellations, the cancellation rate decreases as the tenure increases. The group that did not cancel policies has the lowest cancellation rate, followed by the group that can be convinced not to cancel, while the cancellation group has the highest cancellation rate across all tenures."
      ],
      "metadata": {
        "id": "YkM2-0EP3I97"
      }
    },
    {
      "cell_type": "code",
      "source": [
        "df_train.columns"
      ],
      "metadata": {
        "colab": {
          "base_uri": "https://localhost:8080/"
        },
        "id": "u2LTmL0e5_wV",
        "outputId": "10ca34ab-76ab-43cb-b3f3-4f81dba9d6f5"
      },
      "execution_count": null,
      "outputs": [
        {
          "output_type": "execute_result",
          "data": {
            "text/plain": [
              "Index(['year', 'zip_code', 'house_color', 'ni_age', 'len_at_res', 'credit',\n",
              "       'coverage_type', 'dwelling_type', 'premium', 'sales_channel',\n",
              "       'ni_gender', 'ni_marital_status', 'n_adults', 'n_children', 'tenure',\n",
              "       'claim_ind', 'target'],\n",
              "      dtype='object')"
            ]
          },
          "metadata": {},
          "execution_count": 113
        }
      ]
    },
    {
      "cell_type": "code",
      "source": [
        "\n",
        "grouped_sales_channel = df_train.groupby('sales_channel')['target'].value_counts(normalize=True).unstack()\n",
        "\n",
        "# Reset the index and rename columns for better readability\n",
        "grouped_sales_channel.reset_index(inplace=True)\n",
        "grouped_sales_channel.columns = ['Sales Channel', 'No Cancel', 'Can be Convinced', 'Cancel']\n",
        "\n",
        "# Create the table\n",
        "print(grouped_sales_channel)\n",
        "\n",
        "# Create the bar plot\n",
        "plt.figure(figsize=(10, 6))\n",
        "grouped_sales_channel.set_index('Sales Channel').plot(kind='bar', stacked=True)\n",
        "plt.title('Cancellation Rate by Sales Channel')\n",
        "plt.xlabel('Sales Channel')\n",
        "plt.ylabel('Proportion')\n",
        "plt.legend(title='Cancellation Type')\n",
        "plt.xticks(rotation=0)\n",
        "plt.show()"
      ],
      "metadata": {
        "colab": {
          "base_uri": "https://localhost:8080/",
          "height": 559
        },
        "id": "FfKCn05Ko5wF",
        "outputId": "70e505b0-f7ba-4d67-e8d7-9540c7809e71"
      },
      "execution_count": null,
      "outputs": [
        {
          "output_type": "stream",
          "name": "stdout",
          "text": [
            "  Sales Channel  No Cancel  Can be Convinced    Cancel\n",
            "0        Broker   0.785469          0.049725  0.164806\n",
            "1        Online   0.613523          0.098187  0.288290\n",
            "2         Phone   0.602011          0.103808  0.294181\n"
          ]
        },
        {
          "output_type": "display_data",
          "data": {
            "text/plain": [
              "<Figure size 1000x600 with 0 Axes>"
            ]
          },
          "metadata": {}
        },
        {
          "output_type": "display_data",
          "data": {
            "text/plain": [
              "<Figure size 640x480 with 1 Axes>"
            ],
            "image/png": "[encoded data removed]"
          },
          "metadata": {}
        }
      ]
    },
    {
      "cell_type": "markdown",
      "source": [
        "\n",
        "This visualization displays the rate of policy cancellations for each sales channel. The bar plot that show the percentage of policies that fall into the categories of not canceled, can be convinced to stay, or canceled for each sales channel. The plot indicates that the online sales channel has the highest percentage of policies that are not canceled, whereas the phone sales channel has the highest percentage of policies that are canceled."
      ],
      "metadata": {
        "id": "swgHXQTf51wN"
      }
    },
    {
      "cell_type": "code",
      "source": [
        "# Plotting cancel vs. coverage type\n",
        "sns.countplot(data=df_train, x='coverage_type', hue='target')\n",
        "plt.title('Cancel vs Coverage Type')\n",
        "plt.xlabel('Coverage Type')\n",
        "plt.ylabel('Count')\n",
        "plt.show()\n"
      ],
      "metadata": {
        "colab": {
          "base_uri": "https://localhost:8080/",
          "height": 472
        },
        "id": "prrxlUsNpJDc",
        "outputId": "0f2a84a4-74dd-46b7-cf22-8a2be6aad3ea"
      },
      "execution_count": null,
      "outputs": [
        {
          "output_type": "display_data",
          "data": {
            "text/plain": [
              "<Figure size 640x480 with 1 Axes>"
            ],
            "image/png": "[encoded data removed]"
          },
          "metadata": {}
        }
      ]
    },
    {
      "cell_type": "markdown",
      "source": [
        "According to the plot, most of the policies that were terminated belonged to the \"A\" coverage type, followed by the \"C\" coverage type. Conversely, the \"A\" and \"B\" coverage types had the highest proportion of policies that were not canceled. This implies that the coverage type variable may be significant in predicting policy cancellations."
      ],
      "metadata": {
        "id": "BYBVYdNI6PqQ"
      }
    },
    {
      "cell_type": "code",
      "source": [
        "# Bar plot of cancel vs dwelling type\n",
        "plt.figure(figsize=(8,6))\n",
        "sns.countplot(data=df_train, x='dwelling_type', hue='target')\n",
        "plt.title('Cancel vs Dwelling Type')\n",
        "plt.xlabel('Dwelling Type')\n",
        "plt.ylabel('Count')\n",
        "plt.show()\n"
      ],
      "metadata": {
        "colab": {
          "base_uri": "https://localhost:8080/",
          "height": 564
        },
        "id": "YWbOyESrpa3f",
        "outputId": "9dc200e4-490b-40ad-8591-ea86575e8365"
      },
      "execution_count": null,
      "outputs": [
        {
          "output_type": "display_data",
          "data": {
            "text/plain": [
              "<Figure size 800x600 with 1 Axes>"
            ],
            "image/png": "[encoded data removed]"
          },
          "metadata": {}
        }
      ]
    },
    {
      "cell_type": "markdown",
      "source": [
        "Most policyholders reside in houses, with a substantial number of them residing in condos. Policyholders who live in condos have the highest cancellation rate, followed by renters, and then homeowners. The highest proportion of cancellations that cannot be convinced is observed for policyholders who live in condos, followed by renters, and then homeowners."
      ],
      "metadata": {
        "id": "TQyi8hNC6jgK"
      }
    },
    {
      "cell_type": "markdown",
      "source": [
        "## TABLE"
      ],
      "metadata": {
        "id": "R3J-JKIIptfW"
      }
    },
    {
      "cell_type": "code",
      "source": [
        "train_df.crosstab(\"credit_indexed\", \"target\").show()"
      ],
      "metadata": {
        "colab": {
          "base_uri": "https://localhost:8080/"
        },
        "id": "ltc83RaZ_bsy",
        "outputId": "85806ae2-8efd-41ca-ae36-3b2940a54348"
      },
      "execution_count": null,
      "outputs": [
        {
          "output_type": "stream",
          "name": "stdout",
          "text": [
            "+---------------------+-----+----+-----+\n",
            "|credit_indexed_target|    0|   1|    2|\n",
            "+---------------------+-----+----+-----+\n",
            "|                  1.0|16855|2879| 6495|\n",
            "|                  0.0|58807|3567|11908|\n",
            "|                  2.0| 9481|2184| 7824|\n",
            "+---------------------+-----+----+-----+\n",
            "\n"
          ]
        }
      ]
    },
    {
      "cell_type": "markdown",
      "source": [
        "When examining the table between credit_indexed and target, the most frequent occurrence is when credit is high and target is 0, appearing in 58,807 instances. This is then followed by medium and 0 with 16,855 instances."
      ],
      "metadata": {
        "id": "eiWVseHS66Eh"
      }
    },
    {
      "cell_type": "code",
      "source": [
        "train_df.crosstab(\"coverage_type_indexed\", \"target\").show()"
      ],
      "metadata": {
        "colab": {
          "base_uri": "https://localhost:8080/"
        },
        "id": "rTQdWv00rrI-",
        "outputId": "71e86d5c-d2c0-46d3-80f2-0f95f7777ab0"
      },
      "execution_count": null,
      "outputs": [
        {
          "output_type": "stream",
          "name": "stdout",
          "text": [
            "+----------------------------+-----+----+-----+\n",
            "|coverage_type_indexed_target|    0|   1|    2|\n",
            "+----------------------------+-----+----+-----+\n",
            "|                         1.0|29621|2819| 8502|\n",
            "|                         0.0|35340|3778|11496|\n",
            "|                         2.0|20182|2033| 6229|\n",
            "+----------------------------+-----+----+-----+\n",
            "\n"
          ]
        }
      ]
    },
    {
      "cell_type": "markdown",
      "source": [
        "Looking at the table between coverage_type_indexed and the target variable, we can see that the most frequent pairing is when coverage_type_indexed is 0.0 (indicating coverage type A) and the target is 0, which occurs in 35,340 instances. The second most common pairing is when coverage_type_indexed is 1.0 (indicating coverage type B) and the target is 0, with 29,621 occurrences. Finally, there are 11,496 observations where coverage_type_indexed is 0.0 and the target is 2."
      ],
      "metadata": {
        "id": "TTwoMMPC7Ndm"
      }
    },
    {
      "cell_type": "code",
      "source": [
        "train_df.crosstab(\"dwelling_type_indexed\", \"target\").show()"
      ],
      "metadata": {
        "colab": {
          "base_uri": "https://localhost:8080/"
        },
        "id": "CG8vbIcVsV4l",
        "outputId": "4b40af32-722e-4db9-f63d-5e0bb32edcc6"
      },
      "execution_count": null,
      "outputs": [
        {
          "output_type": "stream",
          "name": "stdout",
          "text": [
            "+----------------------------+-----+----+-----+\n",
            "|dwelling_type_indexed_target|    0|   1|    2|\n",
            "+----------------------------+-----+----+-----+\n",
            "|                         1.0|20028|2167| 6531|\n",
            "|                         0.0|48831|4575|14061|\n",
            "|                         2.0|16284|1888| 5635|\n",
            "+----------------------------+-----+----+-----+\n",
            "\n"
          ]
        }
      ]
    },
    {
      "cell_type": "markdown",
      "source": [
        "The highest number of observations for dwelling_type_indexed belongs to Condo, which is the most common value, appearing in 67,467 observations. House follows this with 28,726 observations and Tenant with 22,807 observations.\n",
        "\n",
        "For target, the most frequent value is also 0, appearing in the highest number of observations (85,143). The next most common values are 2 with 29,227 observations and 1 with 8,630 observations."
      ],
      "metadata": {
        "id": "sQxnIEpZ7z-2"
      }
    },
    {
      "cell_type": "code",
      "source": [
        "train_df.crosstab(\"claim_ind\", \"target\").show()"
      ],
      "metadata": {
        "colab": {
          "base_uri": "https://localhost:8080/"
        },
        "id": "88xxFzLrycO8",
        "outputId": "16e147ef-0b6a-4e1f-e224-d88e7e4c25df"
      },
      "execution_count": null,
      "outputs": [
        {
          "output_type": "stream",
          "name": "stdout",
          "text": [
            "+----------------+-----+----+-----+\n",
            "|claim_ind_target|    0|   1|    2|\n",
            "+----------------+-----+----+-----+\n",
            "|             1.0|15407|2124| 6338|\n",
            "|             0.0|69736|6506|19889|\n",
            "+----------------+-----+----+-----+\n",
            "\n"
          ]
        }
      ]
    },
    {
      "cell_type": "markdown",
      "source": [
        "Based on the table, we can observe that the most frequent combination of claim_ind and target is when claim_ind is 0 and target is no Cancel, which is observed in 69,736 cases. The next most common combinations are when claim_ind is 1 and target is no Cancel (15,407 cases) and when claim_ind is 1 and target is cancel (19,889 cases)."
      ],
      "metadata": {
        "id": "kenIJQehARWB"
      }
    },
    {
      "cell_type": "code",
      "source": [
        "train_df.crosstab(\"sales_channel_indexed\", \"target\").show()"
      ],
      "metadata": {
        "colab": {
          "base_uri": "https://localhost:8080/"
        },
        "id": "yAGFyWe9yhcg",
        "outputId": "d624aa4b-a325-4b3c-d2c9-576de51a1488"
      },
      "execution_count": null,
      "outputs": [
        {
          "output_type": "stream",
          "name": "stdout",
          "text": [
            "+----------------------------+-----+----+-----+\n",
            "|sales_channel_indexed_target|    0|   1|    2|\n",
            "+----------------------------+-----+----+-----+\n",
            "|                         1.0|24125|4160|11789|\n",
            "|                         0.0|54757|3468|11496|\n",
            "|                         2.0| 6261|1002| 2942|\n",
            "+----------------------------+-----+----+-----+\n",
            "\n"
          ]
        }
      ]
    },
    {
      "cell_type": "markdown",
      "source": [
        "The most frequently occurring sales channel in the dataset is Broker with a total count of 70,721. The second most common sales channel is Online with 40,074 observations, followed by Phone with 10,205 observations.\n",
        "\n",
        "In terms of the proportion of observations with different target values, the highest proportion of observations with a target value of Can be convinced is associated with the sales_channel_indexed value of Online. On the other hand, the sales_channel_indexed value of Broker has the highest proportion of observations with a target value of cancel."
      ],
      "metadata": {
        "id": "Jaenv6kJAihJ"
      }
    },
    {
      "cell_type": "markdown",
      "source": [
        "## MODELING"
      ],
      "metadata": {
        "id": "56DulVYKmnHA"
      }
    },
    {
      "cell_type": "code",
      "source": [
        "#running a logistic regression model\n",
        "from pyspark.ml.classification import LogisticRegression\n",
        "\n",
        "input_cols = 'vector_feature'\n",
        "\n",
        "output_cols = 'target'\n",
        "lr = LogisticRegression(labelCol=output_cols, featuresCol=input_cols)\n",
        "lr_model = lr.fit(train_dfv)"
      ],
      "metadata": {
        "id": "WHAASMP3Rrmz"
      },
      "execution_count": null,
      "outputs": []
    },
    {
      "cell_type": "code",
      "source": [
        "#prediction\n",
        "lr_train_pred = lr_model.transform(train_dfv)\n",
        "lr_test_pred = lr_model.transform(test_dfv)\n"
      ],
      "metadata": {
        "id": "ITOHqW8WRrkS"
      },
      "execution_count": null,
      "outputs": []
    },
    {
      "cell_type": "code",
      "source": [
        "#evaluation\n",
        "from pyspark.ml.evaluation import MulticlassClassificationEvaluator\n",
        "evaluate = MulticlassClassificationEvaluator(labelCol=output_cols,metricName='accuracy')\n",
        "lr_acc = evaluate.evaluate(lr_test_pred)"
      ],
      "metadata": {
        "id": "5yT3hBZXRrhY"
      },
      "execution_count": null,
      "outputs": []
    },
    {
      "cell_type": "code",
      "source": [
        "#accuracy\n",
        "print(lr_acc)"
      ],
      "metadata": {
        "colab": {
          "base_uri": "https://localhost:8080/"
        },
        "id": "NV5xM0E9Rre6",
        "outputId": "3da1404f-9747-4ada-86f6-4c0d164266df"
      },
      "execution_count": null,
      "outputs": [
        {
          "output_type": "stream",
          "name": "stdout",
          "text": [
            "0.716869967612956\n"
          ]
        }
      ]
    },
    {
      "cell_type": "code",
      "source": [
        "#confusion matrix\n",
        "lr_test_pred.groupby(\"target\").pivot(\"prediction\").count().show()"
      ],
      "metadata": {
        "colab": {
          "base_uri": "https://localhost:8080/"
        },
        "id": "hx_phrA5lwg6",
        "outputId": "093cd724-2901-453e-c6ef-41b492b56f3b"
      },
      "execution_count": null,
      "outputs": [
        {
          "output_type": "stream",
          "name": "stdout",
          "text": [
            "+------+------+-----+\n",
            "|target|   0.0|  2.0|\n",
            "+------+------+-----+\n",
            "|     1| 23701| 1071|\n",
            "|     2| 62735|12862|\n",
            "|     0|234380|10142|\n",
            "+------+------+-----+\n",
            "\n"
          ]
        }
      ]
    },
    {
      "cell_type": "code",
      "source": [
        "# Create an evaluator with F1 score as the metric\n",
        "evaluator = MulticlassClassificationEvaluator(predictionCol=\"prediction\", labelCol=\"target\", metricName=\"f1\")\n",
        "\n",
        "# Compute the F1 score\n",
        "f1_score = evaluator.evaluate(lr_test_pred)"
      ],
      "metadata": {
        "id": "2P1gfi2El3Xr"
      },
      "execution_count": null,
      "outputs": []
    },
    {
      "cell_type": "code",
      "source": [
        "print(f1_score)"
      ],
      "metadata": {
        "colab": {
          "base_uri": "https://localhost:8080/"
        },
        "id": "JHpyH8P6p3cT",
        "outputId": "b5f29341-2100-4cf6-ae19-357558672792"
      },
      "execution_count": null,
      "outputs": [
        {
          "output_type": "stream",
          "name": "stdout",
          "text": [
            "0.6444363793409251\n"
          ]
        }
      ]
    },
    {
      "cell_type": "code",
      "source": [
        "# gather feature names from metadata of vector\n",
        "feature_names = [\"(Intercept)\"] + [\n",
        "x[\"name\"]\n",
        "for x in (\n",
        "lr_test_pred\n",
        ".schema[\"vector_feature\"]\n",
        ".metadata[\"ml_attr\"][\"attrs\"][\"numeric\"]\n",
        ")\n",
        "]"
      ],
      "metadata": {
        "id": "-sUvSWfzrAUd"
      },
      "execution_count": null,
      "outputs": []
    },
    {
      "cell_type": "code",
      "source": [
        "feature_coefficients = [lr_model.interceptVector[i] for i in range(len(lr_model.interceptVector))] + list(lr_model.coefficientMatrix.values)"
      ],
      "metadata": {
        "id": "lUMlSDyXxjA-"
      },
      "execution_count": null,
      "outputs": []
    },
    {
      "cell_type": "code",
      "source": [
        "import pandas as pd\n",
        "coefficients = pd.DataFrame(feature_coefficients[:10], index=feature_names, columns=[\"coef\"])"
      ],
      "metadata": {
        "id": "6E8TSqBQxi9p"
      },
      "execution_count": null,
      "outputs": []
    },
    {
      "cell_type": "code",
      "source": [
        "# absolute value of coefficients\n",
        "coefficients[\"abs_coef\"] = coefficients[\"coef\"].abs()"
      ],
      "metadata": {
        "id": "-tsevPHxxq0a"
      },
      "execution_count": null,
      "outputs": []
    },
    {
      "cell_type": "code",
      "source": [
        "print(coefficients.sort_values([\"abs_coef\"]))"
      ],
      "metadata": {
        "colab": {
          "base_uri": "https://localhost:8080/"
        },
        "id": "1_B9b3wkxqww",
        "outputId": "59f95b04-75da-4c8d-a2e0-6c200c4d3475"
      },
      "execution_count": null,
      "outputs": [
        {
          "output_type": "stream",
          "name": "stdout",
          "text": [
            "                        coef   abs_coef\n",
            "premium            -0.000002   0.000002\n",
            "n_adults            0.000647   0.000647\n",
            "ni_marital_status   0.017535   0.017535\n",
            "len_at_res          0.035004   0.035004\n",
            "tenure             -0.047597   0.047597\n",
            "claim_ind          -0.077595   0.077595\n",
            "n_children          0.257540   0.257540\n",
            "zip_code           19.105128  19.105128\n",
            "year               50.292418  50.292418\n",
            "(Intercept)       -69.397547  69.397547\n"
          ]
        }
      ]
    },
    {
      "cell_type": "code",
      "source": [
        "from sklearn.metrics import classification_report\n",
        "\n",
        "\n",
        "y_pred_lr = [p.prediction for p in lr_test_pred.select(\"prediction\").collect()]\n",
        "y_actual_lr = [p.target for p in lr_test_pred.select(\"target\").collect()]\n",
        "\n",
        "y_pred_lr_tr = [p.prediction for p in lr_train_pred.select(\"prediction\").collect()]\n",
        "y_actual_lr_tr = [p.target for p in lr_train_pred.select(\"target\").collect()]\n",
        "\n",
        "print('Logistic Regression Test Classification Report:\\n', classification_report(y_actual_lr, y_pred_lr, target_names=[\"class 0\",\"class 1\",\"class 2\"], zero_division=0))\n",
        "\n",
        "print('Logistic Regression Train Classification Report:\\n', classification_report(y_actual_lr_tr, y_pred_lr_tr, target_names=[\"class 0\",\"class 1\",\"class 2\"], zero_division=0))"
      ],
      "metadata": {
        "colab": {
          "base_uri": "https://localhost:8080/"
        },
        "id": "ObvasIjwxqt1",
        "outputId": "1be4e2c6-71df-4165-e244-30b3a48e3064"
      },
      "execution_count": null,
      "outputs": [
        {
          "output_type": "stream",
          "name": "stdout",
          "text": [
            "Logistic Regression Test Classification Report:\n",
            "               precision    recall  f1-score   support\n",
            "\n",
            "     class 0       0.73      0.96      0.83    244522\n",
            "     class 1       0.00      0.00      0.00     24772\n",
            "     class 2       0.53      0.17      0.26     75597\n",
            "\n",
            "    accuracy                           0.72    344891\n",
            "   macro avg       0.42      0.38      0.36    344891\n",
            "weighted avg       0.64      0.72      0.64    344891\n",
            "\n",
            "Logistic Regression Train Classification Report:\n",
            "               precision    recall  f1-score   support\n",
            "\n",
            "     class 0       0.73      0.96      0.83     85143\n",
            "     class 1       0.00      0.00      0.00      8630\n",
            "     class 2       0.54      0.17      0.26     26227\n",
            "\n",
            "    accuracy                           0.72    120000\n",
            "   macro avg       0.43      0.38      0.36    120000\n",
            "weighted avg       0.64      0.72      0.65    120000\n",
            "\n"
          ]
        }
      ]
    },
    {
      "cell_type": "markdown",
      "source": [
        "## INTERPRETABILITY AND DISCUSSION\n",
        "\n",
        "The Logistic Regression is the best performing model.\n",
        "\n",
        "This is the first time we have worked with a problem where test data is almost 3 times the train data.\n",
        "\n",
        "According to the logistic regression model coefficients, it seems that the year, zip_code, and (Intercept) variables are the most significant factors contributing to policy cancellations.\n",
        "\n",
        "The coefficient for the year variable is positive, indicating that the probability of policy cancellation increases with the number of years the policy has been active. This could be due to policies becoming more costly or less useful to the policyholder over time.\n",
        "\n",
        "The logistic model's coefficients suggest that the variables with the most significant impact on policy cancellation are the year, zip_code, and the (Intercept) term. A high positive coefficient for zip_code suggests that policyholders in certain zip codes are more likely to cancel their policies than policyholders in other zip codes, which may be due to various factors such as demographics, competition, or local economic conditions.\n",
        "\n",
        "On the other hand, the negative coefficient for the Intercept term indicates that the average probability of policy cancellation is low. This is because most policyholders tend to retain their policies and do not cancel them, making the baseline probability of cancellation low.\n",
        "\n",
        "**BUSINESS RECOMMENDATION**\n",
        "\n",
        "Based on these findings, one possible business suggestion is to prioritize efforts to retain policyholders in regions with high cancellation rates.\n",
        "\n",
        "Another recommendation is to provide incentives or discounts to policyholders who have been with the company for a long time (i.e., those with high tenure values) to motivate them to maintain their coverage.\n",
        "\n",
        "Moreover, it might be beneficial to investigate the underlying reasons for policyholders in specific zip codes to cancel their policies and identify potential ways to address these concerns or enhance the company's services in those regions. For doing this company can try doing a survey and run a analysis on it."
      ],
      "metadata": {
        "id": "9KBv1pu-zo0l"
      }
    },
    {
      "cell_type": "markdown",
      "source": [
        "## COMMENTS"
      ],
      "metadata": {
        "id": "rqrPgndD0VQq"
      }
    },
    {
      "cell_type": "markdown",
      "source": [
        "1. When doing this project we learned how important is EDA for understanding the data and deciding what preprocessing steps needs to be done.\n",
        "\n",
        "2. One interesting thing we discovered during the project is don't rely fully on visuals for taking the decsions, concrete evidence in form of math is needed especially when doing data cleaning an imputing.\n",
        "\n",
        "3. We also the importance of treating null values especially in Pyspark and it's always better to re-check the data before doing modelling whether the null values are treated on not. We literally took alomost a day to figure out why we were not able to run any model.\n",
        "\n",
        "4. We also used Databricks for this project, but found running code on Google Colab is reltively easy, for example in Databricks with the same code for reading the file the output of printSchema was very different in Databricks every single column was coming as string.\n",
        "\n",
        "5. We also learned how to build a model in Pyspark using ML pipleines, although we end up not using it but it was something very new and interesting. Imagine using ML pipelines for dealing with big data it would make the work so easy.\n"
      ],
      "metadata": {
        "id": "xoCY-8R2-1ZN"
      }
    },
    {
      "cell_type": "markdown",
      "source": [
        "## APPENDIX"
      ],
      "metadata": {
        "id": "Igil_ffx884O"
      }
    },
    {
      "cell_type": "code",
      "source": [
        "from pyspark.ml.classification import DecisionTreeClassifier\n",
        "# I'll use the general 'clf' for my model name\n",
        "clf = DecisionTreeClassifier(featuresCol=input_cols, labelCol=output_cols, predictionCol=\"prediction\",\n",
        "                            maxDepth=30)\n",
        "r_model = clf.fit(train_dfv)\n",
        "r_train_pred = r_model.transform(train_dfv)\n",
        "r_test_pred = r_model.transform(test_dfv)"
      ],
      "metadata": {
        "id": "DoOTtV0O8-Wt"
      },
      "execution_count": null,
      "outputs": []
    },
    {
      "cell_type": "code",
      "source": [
        "from pyspark.ml.evaluation import MulticlassClassificationEvaluator\n",
        "evaluate = MulticlassClassificationEvaluator(labelCol=output_cols,metricName='accuracy')\n",
        "r_acc = evaluate.evaluate(r_test_pred)"
      ],
      "metadata": {
        "id": "a-eKu6Ha-DCY"
      },
      "execution_count": null,
      "outputs": []
    },
    {
      "cell_type": "code",
      "source": [
        "print(r_acc)"
      ],
      "metadata": {
        "colab": {
          "base_uri": "https://localhost:8080/"
        },
        "id": "pnlHwWPpAz9s",
        "outputId": "5eb6f205-2691-44d1-c2ec-3fd29e575b72"
      },
      "execution_count": null,
      "outputs": [
        {
          "output_type": "stream",
          "name": "stdout",
          "text": [
            "0.609238860973467\n"
          ]
        }
      ]
    },
    {
      "cell_type": "code",
      "source": [
        "#confusion matrix\n",
        "r_test_pred.groupby(\"target\").pivot(\"prediction\").count().show()"
      ],
      "metadata": {
        "colab": {
          "base_uri": "https://localhost:8080/"
        },
        "id": "fdcO2M7AA5gt",
        "outputId": "e3535fd1-1f0c-42f8-b66b-353f31a96f98"
      },
      "execution_count": null,
      "outputs": [
        {
          "output_type": "stream",
          "name": "stdout",
          "text": [
            "+------+------+-----+-----+\n",
            "|target|   0.0|  1.0|  2.0|\n",
            "+------+------+-----+-----+\n",
            "|     1| 12226| 6111| 6435|\n",
            "|     2| 44690| 6529|24378|\n",
            "|     0|179632|13728|51162|\n",
            "+------+------+-----+-----+\n",
            "\n"
          ]
        }
      ]
    },
    {
      "cell_type": "code",
      "source": [
        "# Create an evaluator with F1 score as the metric\n",
        "evaluator = MulticlassClassificationEvaluator(predictionCol=\"prediction\", labelCol=\"target\", metricName=\"f1\")\n",
        "\n",
        "# Compute the F1 score\n",
        "f1_score = evaluator.evaluate(r_test_pred)\n",
        "\n",
        "print(f1_score)"
      ],
      "metadata": {
        "colab": {
          "base_uri": "https://localhost:8080/"
        },
        "id": "sXXJU41CA6ZW",
        "outputId": "a17fa31d-7b88-44f2-a1c2-f212c849437d"
      },
      "execution_count": null,
      "outputs": [
        {
          "output_type": "stream",
          "name": "stdout",
          "text": [
            "0.6144580247195256\n"
          ]
        }
      ]
    },
    {
      "cell_type": "code",
      "source": [],
      "metadata": {
        "id": "PN9u9B8kBFDQ"
      },
      "execution_count": null,
      "outputs": []
    }
  ]
}